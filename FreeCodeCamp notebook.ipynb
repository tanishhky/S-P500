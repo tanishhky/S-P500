{
 "cells": [
  {
   "cell_type": "markdown",
   "id": "10495576-0663-42c8-8218-1bae70d80f00",
   "metadata": {},
   "source": [
    "### Loading Packages"
   ]
  },
  {
   "cell_type": "code",
   "execution_count": null,
   "id": "00878c2c-f69a-416d-9b2d-e4a99416f87a",
   "metadata": {},
   "outputs": [],
   "source": [
    "%pip install pandas\n",
    "%pip install numpy\n",
    "%pip install matplotlib\n",
    "%pip install statsmodels\n",
    "%pip install pandas_datareader\n",
    "%pip install datetime\n",
    "%pip install yfinance\n",
    "%pip install scikit-learn\n",
    "%pip install PyPortfolioOpt"
   ]
  },
  {
   "cell_type": "code",
   "execution_count": 11,
   "id": "1920bccc-d0c6-4235-b755-e9a94b878cb8",
   "metadata": {},
   "outputs": [],
   "source": [
    "from statsmodels.regression.rolling import RollingOLS"
   ]
  },
  {
   "cell_type": "code",
   "execution_count": null,
   "id": "529d64ba-5f39-4b82-a2b3-1c92e2f2af90",
   "metadata": {},
   "outputs": [],
   "source": []
  },
  {
   "cell_type": "code",
   "execution_count": null,
   "id": "1a534e6d-bc9a-4cd2-9250-7373cd8de9cf",
   "metadata": {},
   "outputs": [],
   "source": []
  },
  {
   "cell_type": "code",
   "execution_count": null,
   "id": "24bfd4b8-94f7-4e32-bd49-06e0faab7ce1",
   "metadata": {},
   "outputs": [],
   "source": []
  }
 ],
 "metadata": {
  "kernelspec": {
   "display_name": "Python 3 (ipykernel)",
   "language": "python",
   "name": "python3"
  },
  "language_info": {
   "codemirror_mode": {
    "name": "ipython",
    "version": 3
   },
   "file_extension": ".py",
   "mimetype": "text/x-python",
   "name": "python",
   "nbconvert_exporter": "python",
   "pygments_lexer": "ipython3",
   "version": "3.12.4"
  }
 },
 "nbformat": 4,
 "nbformat_minor": 5
}
